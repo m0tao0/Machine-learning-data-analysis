{
 "cells": [
  {
   "cell_type": "code",
   "execution_count": 1,
   "metadata": {},
   "outputs": [
    {
     "name": "stderr",
     "output_type": "stream",
     "text": [
      "Using TensorFlow backend.\n"
     ]
    }
   ],
   "source": [
    "import numpy as np\n",
    "import os\n",
    "from keras.optimizers import RMSprop\n",
    "from keras.callbacks import ModelCheckpoint, Callback, EarlyStopping\n",
    "from keras.utils import np_utils\n",
    "from random import shuffle\n",
    "import h5py\n",
    "from keras import models\n",
    "from keras import layers\n",
    "from keras import optimizers\n",
    "import json\n",
    "import matplotlib.pyplot as plt\n",
    "import pandas as pd\n",
    "from keras.models import *\n",
    "from keras.layers import *\n",
    "from keras.applications import *\n",
    "from keras.preprocessing.image import *\n",
    "from keras.applications.resnet50 import decode_predictions\n",
    "import matplotlib.image as mpimg"
   ]
  },
  {
   "cell_type": "markdown",
   "metadata": {},
   "source": [
    "# Functions to use"
   ]
  },
  {
   "cell_type": "code",
   "execution_count": 2,
   "metadata": {},
   "outputs": [],
   "source": [
    "# a fucntion to plot and print history\n",
    "def plot_print_history(history, title, to_print=False):\n",
    "    plt.figure(1, figsize=(14,4))\n",
    "    plt.suptitle(title, fontsize=12)\n",
    "    # summarize history for accuracy\n",
    "    plt.subplot(121)\n",
    "    plt.plot(history['acc'])\n",
    "    plt.plot(history['val_acc'])\n",
    "    plt.title('model accuracy')\n",
    "    plt.ylabel('accuracy')\n",
    "    plt.xlabel('epoch')\n",
    "    plt.legend(['train', 'val'], loc='lower right')\n",
    "    #plt.show()\n",
    "    # summarize history for loss\n",
    "    plt.subplot(122)\n",
    "    plt.plot(history['loss'])\n",
    "    plt.plot(history['val_loss'])\n",
    "    plt.title('model loss')\n",
    "    plt.ylabel('loss')\n",
    "    plt.xlabel('epoch')\n",
    "    plt.legend(['train', 'val'], loc='upper right')\n",
    "    plt.show()\n",
    "    # print history as a numpy array\n",
    "    if to_print == True:\n",
    "        #print(np.array([history['acc'], history['val_acc'], history['loss'],history['val_loss']]))\n",
    "        print(history)\n",
    "    \n",
    "    # save fig\n",
    "    #plt.savefig(fig_path)"
   ]
  },
  {
   "cell_type": "code",
   "execution_count": 3,
   "metadata": {
    "collapsed": true
   },
   "outputs": [],
   "source": [
    "def save_to_sub(pred, output_name):\n",
    "    df = pd.read_csv(\"sample_submission.csv\")\n",
    "    for i, file in enumerate(test_generator.filenames):\n",
    "        index = int(file[file.rfind('/')+1:file.rfind('.')])\n",
    "        df.set_value(index-1, 'label', pred[i])\n",
    "    df.to_csv(output_name, index=None)\n",
    "    df.head(10)"
   ]
  },
  {
   "cell_type": "code",
   "execution_count": 4,
   "metadata": {
    "collapsed": true
   },
   "outputs": [],
   "source": [
    "# the function to save history to a txt file\n",
    "def save_history(history, output_name):\n",
    "    with open(output_name, 'w') as file:\n",
    "        file.write(json.dumps(history)) # use `json.loads` to do the reverse\n"
   ]
  },
  {
   "cell_type": "code",
   "execution_count": 5,
   "metadata": {
    "collapsed": true
   },
   "outputs": [],
   "source": [
    "# the function to save history to a txt file\n",
    "def load_history(history_name):\n",
    "    with open(history_name, 'r') as fin:\n",
    "        data = fin.read()\n",
    "\n",
    "    history = eval(data)\n",
    "    return history"
   ]
  },
  {
   "cell_type": "code",
   "execution_count": 6,
   "metadata": {
    "collapsed": true
   },
   "outputs": [],
   "source": [
    "# the function to save model\n",
    "def save_model(model, model_name):\n",
    "    model_json = model.to_json()\n",
    "    base_model_path = os.path.join(os.path.abspath(model_path), model_name)\n",
    "    with open(base_model_path, 'w') as json_file:\n",
    "          json_file.write(model_json)\n"
   ]
  },
  {
   "cell_type": "code",
   "execution_count": 7,
   "metadata": {
    "collapsed": true
   },
   "outputs": [],
   "source": [
    "# the function to load model\n",
    "def load_model(model_name):\n",
    "    json_file = open(model_name, 'r')\n",
    "    loaded_model_json = json_file.read()\n",
    "    json_file.close()\n",
    "    model = model_from_json(loaded_model_json)\n",
    "    \n",
    "    return model"
   ]
  },
  {
   "cell_type": "code",
   "execution_count": 8,
   "metadata": {
    "collapsed": true
   },
   "outputs": [],
   "source": [
    "# load top weights to models\n",
    "def load_top_weights(model, weights_name):\n",
    "    model.load_weights(weights_name)\n",
    "    return model"
   ]
  },
  {
   "cell_type": "code",
   "execution_count": 9,
   "metadata": {
    "collapsed": true
   },
   "outputs": [],
   "source": [
    "def save_his_to_csv(history):\n",
    "    df = pd.DataFrame(data=load_history(history))\n",
    "    df.to_csv(history[:-4]+'.csv', index=None)"
   ]
  },
  {
   "cell_type": "code",
   "execution_count": 10,
   "metadata": {
    "collapsed": true
   },
   "outputs": [],
   "source": [
    "classes = 2\n",
    "img_size = 299\n",
    "channels = 3\n",
    "LR = 1e-4\n",
    "FC_SIZE = 2048\n",
    "TRAIN_DIR = 'train_copy'\n",
    "VALIDATION_DIR = 'validation_copy'\n",
    "TEST_DIR = 'test'\n",
    "batch_size = 32\n",
    "nb_epoch = 10\n",
    "momentum = .9\n",
    "transformation_ratio = .05\n",
    "model_path ='/home/ubuntu/capstone/dog_vs_cat'"
   ]
  },
  {
   "cell_type": "code",
   "execution_count": 11,
   "metadata": {},
   "outputs": [
    {
     "name": "stdout",
     "output_type": "stream",
     "text": [
      "Found 20000 images belonging to 2 classes.\n",
      "Found 5000 images belonging to 2 classes.\n",
      "Found 12500 images belonging to 1 classes.\n",
      "Found 5000 images belonging to 1 classes.\n"
     ]
    }
   ],
   "source": [
    "#分别对训练集、验证集和测试集构建data generator\n",
    "datagen = ImageDataGenerator()\n",
    "\n",
    "#训练集生成器\n",
    "train_generator = datagen.flow_from_directory(TRAIN_DIR,\n",
    "                                              target_size=(img_size, img_size),\n",
    "                                              batch_size=batch_size,\n",
    "                                              class_mode='binary',\n",
    "                                              shuffle=True)\n",
    "#验证集生成器\n",
    "validation_generator = datagen.flow_from_directory(VALIDATION_DIR,\n",
    "                                                   target_size=(img_size, img_size),\n",
    "                                                   batch_size=batch_size,\n",
    "                                                   class_mode='binary',\n",
    "                                                   shuffle=True)\n",
    "#测试集生成器\n",
    "test_generator = datagen.flow_from_directory(TEST_DIR,\n",
    "                                             target_size=(img_size, img_size),\n",
    "                                             batch_size=batch_size, shuffle=False)\n",
    "\n",
    "#用于检验和评价模型的数据集生成器\n",
    "validation = datagen.flow_from_directory('validation',\n",
    "                                                   target_size=(img_size, img_size),\n",
    "                                                   batch_size=batch_size,\n",
    "                                                   class_mode='binary',\n",
    "                                                   shuffle=False)"
   ]
  },
  {
   "cell_type": "code",
   "execution_count": 12,
   "metadata": {},
   "outputs": [],
   "source": [
    "#定义一个以预训练模型为基础构建新模型的函数\n",
    "def build_model(model, img_size, dropout, layer_to_train=None, preprocess=None):\n",
    "    \n",
    "    '''\n",
    "    model: 选择的预训练模型\n",
    "    img_size: tuple, 预训练模型要求的图像输入尺寸,如(299,299)\n",
    "    layer_to_train: integer, 设置预训练模型中可训练的层数（即倒数几层）\n",
    "    dropout: float, 随机舍弃率，通常为0.5~0.7\n",
    "    preprocess: 设置预训练模型相应的预处理方式\n",
    "    \n",
    "    '''\n",
    "    \n",
    "    #设置输入数据格式为（width, height, channel）\n",
    "    input_tensor = Input((img_size[0], img_size[1], channels))\n",
    "    x = input_tensor\n",
    "    \n",
    "    #若需要，对数据进行预处理\n",
    "    if preprocess:\n",
    "        x = Lambda(preprocess)(x)\n",
    "    \n",
    "    #加载预训练模型\n",
    "    conv_base = model(weights='imagenet',include_top=False,input_tensor=x)\n",
    "    \n",
    "    #设置预训练模型中可训练的层数（即倒数几层）\n",
    "    if layer_to_train:\n",
    "        for layer in conv_base.layers[:-layer_to_train]:\n",
    "            layer.trainable = False\n",
    "        for layer in conv_base.layers[-layer_to_train:]:\n",
    "            layer.trainable = True\n",
    "    else:\n",
    "        for layer in conv_base.layers:\n",
    "            layer.trainable = False\n",
    "    \n",
    "    #增加顶层构建模型\n",
    "    x = GlobalAveragePooling2D()(conv_base.output)  #在与训练模型上增加池化层\n",
    "    x = Dropout(dropout)(x)                         #增加dropout层以防止过拟合\n",
    "    x = Dense(1, activation='sigmoid')(x)           #增加激活层，激活函数使用sigmoid\n",
    "    model = Model(conv_base.input, x)\n",
    "    \n",
    "    #函数返回一个模型\n",
    "    return model"
   ]
  },
  {
   "cell_type": "code",
   "execution_count": 13,
   "metadata": {},
   "outputs": [],
   "source": [
    "def train_base_model(model, top_weights, final_model, epoch=10):\n",
    "\n",
    "    '''\n",
    "    model: 需要训练的模型\n",
    "    epoch: integer, 默认训练10代\n",
    "    top_weights: str, 保存最佳权重值的文件名(.h5),如'top_model_weights_Xception_3layers.h5'\n",
    "    final_model: str, 保存最终模型的文件名(.json),如'model_Xception_3layers.json'\n",
    "    \n",
    "    '''\n",
    "    \n",
    "    #设置保存最佳权重值文件的路径\n",
    "    top_base_weights_name = top_weights\n",
    "    top_base_weights_path = os.path.join(os.path.abspath(model_path), top_base_weights_name)\n",
    "    \n",
    "    callbacks_list = [ModelCheckpoint(top_base_weights_path, monitor='val_loss', verbose=1, save_best_only=True),\n",
    "                  EarlyStopping(monitor='val_loss', patience=5, verbose=0)]\n",
    "    \n",
    "    \n",
    "    model.compile(optimizer='adadelta', loss='binary_crossentropy', metrics=['accuracy'])\n",
    "    \n",
    "    #训练模型\n",
    "    base_history = model.fit_generator(train_generator,\n",
    "                                       steps_per_epoch=20000//batch_size,\n",
    "                                       epochs=epoch,\n",
    "                                       validation_data=validation_generator,\n",
    "                                       validation_steps=5000//batch_size,\n",
    "                                       shuffle=True,\n",
    "                                       callbacks=callbacks_list)\n",
    "    \n",
    "    #保存模型\n",
    "    model_name = final_model\n",
    "    save_model(model, model_name)\n",
    "    \n",
    "    return model, base_history.history"
   ]
  },
  {
   "cell_type": "code",
   "execution_count": 14,
   "metadata": {
    "collapsed": true
   },
   "outputs": [],
   "source": [
    "#模型预测数据并做后续clip处理\n",
    "def predict(model, generator):\n",
    "    pred = model.predict_generator(generator, verbose=1)\n",
    "    pred = pred.clip(min=0.005, max=0.995)\n",
    "    return pred"
   ]
  },
  {
   "cell_type": "markdown",
   "metadata": {},
   "source": [
    "# Using pretrained model to eliminate outliers"
   ]
  },
  {
   "cell_type": "code",
   "execution_count": 15,
   "metadata": {
    "collapsed": true
   },
   "outputs": [],
   "source": [
    "dogs = [\n",
    " 'n02085620','n02085782','n02085936','n02086079'\n",
    ",'n02086240','n02086646','n02086910','n02087046'\n",
    ",'n02087394','n02088094','n02088238','n02088364'\n",
    ",'n02088466','n02088632','n02089078','n02089867'\n",
    ",'n02089973','n02090379','n02090622','n02090721'\n",
    ",'n02091032','n02091134','n02091244','n02091467'\n",
    ",'n02091635','n02091831','n02092002','n02092339'\n",
    ",'n02093256','n02093428','n02093647','n02093754'\n",
    ",'n02093859','n02093991','n02094114','n02094258'\n",
    ",'n02094433','n02095314','n02095570','n02095889'\n",
    ",'n02096051','n02096177','n02096294','n02096437'\n",
    ",'n02096585','n02097047','n02097130','n02097209'\n",
    ",'n02097298','n02097474','n02097658','n02098105'\n",
    ",'n02098286','n02098413','n02099267','n02099429'\n",
    ",'n02099601','n02099712','n02099849','n02100236'\n",
    ",'n02100583','n02100735','n02100877','n02101006'\n",
    ",'n02101388','n02101556','n02102040','n02102177'\n",
    ",'n02102318','n02102480','n02102973','n02104029'\n",
    ",'n02104365','n02105056','n02105162','n02105251'\n",
    ",'n02105412','n02105505','n02105641','n02105855'\n",
    ",'n02106030','n02106166','n02106382','n02106550'\n",
    ",'n02106662','n02107142','n02107312','n02107574'\n",
    ",'n02107683','n02107908','n02108000','n02108089'\n",
    ",'n02108422','n02108551','n02108915','n02109047'\n",
    ",'n02109525','n02109961','n02110063','n02110185'\n",
    ",'n02110341','n02110627','n02110806','n02110958'\n",
    ",'n02111129','n02111277','n02111500','n02111889'\n",
    ",'n02112018','n02112137','n02112350','n02112706'\n",
    ",'n02113023','n02113186','n02113624','n02113712'\n",
    ",'n02113799','n02113978']\n",
    "\n",
    "cats=[\n",
    "'n02123045','n02123159','n02123394','n02123597'\n",
    ",'n02124075','n02125311','n02127052']"
   ]
  },
  {
   "cell_type": "code",
   "execution_count": 16,
   "metadata": {
    "collapsed": true
   },
   "outputs": [],
   "source": [
    "#设置Top N来检测异常值\n",
    "def detect_outliers(pred, n):\n",
    "    topN = decode_predictions(pred, top=n)\n",
    "    outliers= []\n",
    "    for num in range(len(topN)):\n",
    "        count=0\n",
    "        for i in range(n):\n",
    "            if topN[num][i][0] in dogs:\n",
    "                count+=1\n",
    "            if topN[num][i][0] in cats:\n",
    "                count+=1\n",
    "        if count==0:\n",
    "            outliers.append(raw.filenames[num].split('/')[-1])\n",
    "            \n",
    "    return outliers"
   ]
  },
  {
   "cell_type": "code",
   "execution_count": 17,
   "metadata": {
    "collapsed": true
   },
   "outputs": [],
   "source": [
    "#显示被侦测为异常值的图片\n",
    "def display_outliers(outliers, col=4, fig_size=(40, 50)):\n",
    "    print(len(outliers))\n",
    "    fig = plt.figure(1, fig_size)\n",
    "    row = int(len(outliers)/col) + 1\n",
    "    for k in range(len(outliers)):\n",
    "        fig.add_subplot(row, col, k+1)\n",
    "        plt.title(outliers[k])\n",
    "        img=mpimg.imread('raw/raw/'+outliers[k])\n",
    "        plt.imshow(img)\n",
    "        plt.axis('off')\n",
    "    plt.show()\n",
    "            "
   ]
  },
  {
   "cell_type": "markdown",
   "metadata": {},
   "source": [
    "## ResNet50"
   ]
  },
  {
   "cell_type": "code",
   "execution_count": 189,
   "metadata": {},
   "outputs": [
    {
     "name": "stdout",
     "output_type": "stream",
     "text": [
      "Found 20000 images belonging to 1 classes.\n"
     ]
    }
   ],
   "source": [
    "#ResNet50数据预处理\n",
    "from keras.applications.resnet50 import preprocess_input\n",
    "datagen2 = ImageDataGenerator(preprocessing_function=preprocess_input)\n",
    "raw = datagen2.flow_from_directory('raw',\n",
    "                                   target_size=(224, 224),\n",
    "                                   batch_size=batch_size,\n",
    "                                   shuffle=False)"
   ]
  },
  {
   "cell_type": "code",
   "execution_count": 45,
   "metadata": {},
   "outputs": [
    {
     "name": "stdout",
     "output_type": "stream",
     "text": [
      "625/625 [==============================] - 192s 307ms/step\n"
     ]
    }
   ],
   "source": [
    "ResNet50 = ResNet50()\n",
    "pred_ResNet50 = ResNet50.predict_generator(raw, verbose=1)"
   ]
  },
  {
   "cell_type": "code",
   "execution_count": null,
   "metadata": {
    "collapsed": true
   },
   "outputs": [],
   "source": [
    "outliers_ResNet50 = detect_outliers(pred_ResNet50, 45)\n",
    "display_outliers(outliers_ResNet50)\n",
    "#会得到35个异常值"
   ]
  },
  {
   "cell_type": "markdown",
   "metadata": {},
   "source": [
    "## DenseNet"
   ]
  },
  {
   "cell_type": "code",
   "execution_count": 186,
   "metadata": {},
   "outputs": [
    {
     "name": "stdout",
     "output_type": "stream",
     "text": [
      "Found 20000 images belonging to 1 classes.\n"
     ]
    }
   ],
   "source": [
    "#DenseNet数据预处理\n",
    "datagen2 = ImageDataGenerator(preprocessing_function=densenet.preprocess_input)\n",
    "raw = datagen2.flow_from_directory('raw',\n",
    "                                   target_size=(224, 224),\n",
    "                                   batch_size=batch_size,\n",
    "                                   shuffle=False)"
   ]
  },
  {
   "cell_type": "code",
   "execution_count": 35,
   "metadata": {},
   "outputs": [
    {
     "name": "stdout",
     "output_type": "stream",
     "text": [
      "625/625 [==============================] - 317s 507ms/step\n"
     ]
    }
   ],
   "source": [
    "DenseNet201 = DenseNet201()\n",
    "pred_DenseNet201 = DenseNet201.predict_generator(raw, verbose=1)"
   ]
  },
  {
   "cell_type": "code",
   "execution_count": null,
   "metadata": {
    "collapsed": true
   },
   "outputs": [],
   "source": [
    "outliers_DenseNet201 = detect_outliers(pred_DenseNet201, 40)\n",
    "display_outliers(outliers_DenseNet201)\n",
    "#会得到23个异常值"
   ]
  },
  {
   "cell_type": "markdown",
   "metadata": {},
   "source": [
    "## InceptionResNetV2"
   ]
  },
  {
   "cell_type": "code",
   "execution_count": 191,
   "metadata": {},
   "outputs": [
    {
     "name": "stdout",
     "output_type": "stream",
     "text": [
      "Found 20000 images belonging to 1 classes.\n"
     ]
    }
   ],
   "source": [
    "#InceptionResNetV2数据预处理\n",
    "datagen2 = ImageDataGenerator(preprocessing_function=inception_resnet_v2.preprocess_input)\n",
    "raw = datagen2.flow_from_directory('raw',\n",
    "                                   target_size=(299, 299),\n",
    "                                   batch_size=batch_size,\n",
    "                                   shuffle=False)"
   ]
  },
  {
   "cell_type": "code",
   "execution_count": 28,
   "metadata": {},
   "outputs": [
    {
     "name": "stdout",
     "output_type": "stream",
     "text": [
      "625/625 [==============================] - 574s 919ms/step\n"
     ]
    }
   ],
   "source": [
    "InceptionResNetV2 = InceptionResNetV2()\n",
    "pred_InceptionResNetV2 = InceptionResNetV2.predict_generator(raw, verbose=1)"
   ]
  },
  {
   "cell_type": "code",
   "execution_count": null,
   "metadata": {
    "collapsed": true
   },
   "outputs": [],
   "source": [
    "outliers_InceptionResNetV2 = detect_outliers(pred_InceptionResNetV2, 50)\n",
    "display_outliers(outliers_InceptionResNetV2)\n",
    "#会得到25个异常值"
   ]
  },
  {
   "cell_type": "markdown",
   "metadata": {},
   "source": [
    "## Aggregation of outliers"
   ]
  },
  {
   "cell_type": "code",
   "execution_count": 52,
   "metadata": {
    "collapsed": true
   },
   "outputs": [],
   "source": [
    "#汇总所有异常值\n",
    "outliers = outliers_ResNet50 + outliers_DenseNet201 + outliers_InceptionResNetV2"
   ]
  },
  {
   "cell_type": "code",
   "execution_count": 53,
   "metadata": {
    "collapsed": true
   },
   "outputs": [],
   "source": [
    "train_cat = [i for i in os.listdir('/home/ubuntu/capstone/dog_vs_cat/train_copy_2/cat/')]\n",
    "train_dog = [i for i in os.listdir('/home/ubuntu/capstone/dog_vs_cat/train_copy_2/dog/')]"
   ]
  },
  {
   "cell_type": "code",
   "execution_count": 54,
   "metadata": {
    "collapsed": true
   },
   "outputs": [],
   "source": [
    "#从训练集中删除异常值\n",
    "for i in train_cat:\n",
    "    if i in outliers:\n",
    "        os.remove('/home/ubuntu/capstone/dog_vs_cat/train_copy_2/cat/'+i)\n",
    "for i in train_dog:\n",
    "    if i in outliers:\n",
    "        os.remove('/home/ubuntu/capstone/dog_vs_cat/train_copy_2/dog/'+i)"
   ]
  },
  {
   "cell_type": "code",
   "execution_count": 58,
   "metadata": {},
   "outputs": [
    {
     "name": "stdout",
     "output_type": "stream",
     "text": [
      "['cat.10365.jpg', 'cat.10536.jpg', 'cat.10712.jpg', 'cat.12272.jpg', 'cat.12476.jpg', 'cat.2457.jpg', 'cat.2520.jpg', 'cat.2939.jpg', 'cat.3216.jpg', 'cat.3672.jpg', 'cat.5418.jpg', 'cat.5974.jpg', 'cat.6348.jpg', 'cat.7377.jpg', 'cat.7564.jpg', 'cat.8921.jpg', 'cat.9171.jpg', 'dog.10123.jpg', 'dog.10161.jpg', 'dog.10190.jpg', 'dog.10237.jpg', 'dog.11437.jpg', 'dog.1194.jpg', 'dog.12376.jpg', 'dog.1625.jpg', 'dog.2422.jpg', 'dog.2614.jpg', 'dog.4218.jpg', 'dog.4367.jpg', 'dog.4507.jpg', 'dog.5604.jpg', 'dog.6475.jpg', 'dog.6725.jpg', 'dog.8736.jpg', 'dog.9517.jpg', 'cat.10029.jpg', 'cat.10365.jpg', 'cat.12272.jpg', 'cat.2429.jpg', 'cat.2939.jpg', 'cat.3216.jpg', 'cat.5351.jpg', 'cat.7377.jpg', 'cat.7968.jpg', 'dog.10190.jpg', 'dog.10237.jpg', 'dog.1043.jpg', 'dog.12376.jpg', 'dog.1259.jpg', 'dog.1895.jpg', 'dog.2614.jpg', 'dog.4507.jpg', 'dog.5604.jpg', 'dog.6475.jpg', 'dog.6725.jpg', 'dog.8736.jpg', 'dog.9188.jpg', 'dog.9517.jpg', 'cat.10029.jpg', 'cat.10712.jpg', 'cat.2520.jpg', 'cat.2939.jpg', 'cat.4338.jpg', 'cat.4688.jpg', 'cat.5071.jpg', 'cat.5351.jpg', 'cat.7377.jpg', 'cat.7564.jpg', 'cat.7968.jpg', 'cat.8470.jpg', 'cat.9171.jpg', 'dog.10161.jpg', 'dog.10190.jpg', 'dog.10237.jpg', 'dog.12376.jpg', 'dog.1895.jpg', 'dog.2614.jpg', 'dog.4367.jpg', 'dog.5604.jpg', 'dog.6475.jpg', 'dog.8736.jpg', 'dog.9188.jpg', 'dog.9517.jpg']\n",
      "83\n"
     ]
    }
   ],
   "source": [
    "#just record\n",
    "print(outliers)\n",
    "print(len(outliers))"
   ]
  },
  {
   "cell_type": "code",
   "execution_count": 59,
   "metadata": {},
   "outputs": [
    {
     "name": "stdout",
     "output_type": "stream",
     "text": [
      "47\n",
      "['cat.10365.jpg', 'cat.10536.jpg', 'cat.10712.jpg', 'cat.12272.jpg', 'cat.12476.jpg', 'cat.2457.jpg', 'cat.2520.jpg', 'cat.2939.jpg', 'cat.3216.jpg', 'cat.3672.jpg', 'cat.5418.jpg', 'cat.5974.jpg', 'cat.6348.jpg', 'cat.7377.jpg', 'cat.7564.jpg', 'cat.8921.jpg', 'cat.9171.jpg', 'dog.10123.jpg', 'dog.10161.jpg', 'dog.10190.jpg', 'dog.10237.jpg', 'dog.11437.jpg', 'dog.1194.jpg', 'dog.12376.jpg', 'dog.1625.jpg', 'dog.2422.jpg', 'dog.2614.jpg', 'dog.4218.jpg', 'dog.4367.jpg', 'dog.4507.jpg', 'dog.5604.jpg', 'dog.6475.jpg', 'dog.6725.jpg', 'dog.8736.jpg', 'dog.9517.jpg', 'cat.10029.jpg', 'cat.2429.jpg', 'cat.5351.jpg', 'cat.7968.jpg', 'dog.1043.jpg', 'dog.1259.jpg', 'dog.1895.jpg', 'dog.9188.jpg', 'cat.4338.jpg', 'cat.4688.jpg', 'cat.5071.jpg', 'cat.8470.jpg']\n"
     ]
    }
   ],
   "source": [
    "check = []\n",
    "for outlier in outliers:\n",
    "    if outlier not in check:\n",
    "        check.append(outlier)\n",
    "print(len(check))\n",
    "print(check)"
   ]
  },
  {
   "cell_type": "code",
   "execution_count": 56,
   "metadata": {
    "collapsed": true
   },
   "outputs": [],
   "source": [
    "classes = 2\n",
    "img_size = 299\n",
    "channels = 3\n",
    "LR = 1e-4\n",
    "FC_SIZE = 2048\n",
    "TRAIN_DIR = 'train_copy'\n",
    "VALIDATION_DIR = 'validation_copy'\n",
    "TEST_DIR = 'test'\n",
    "batch_size = 32\n",
    "nb_epoch = 10\n",
    "momentum = .9\n",
    "transformation_ratio = .05\n",
    "model_path ='/home/ubuntu/capstone/dog_vs_cat'"
   ]
  },
  {
   "cell_type": "code",
   "execution_count": 57,
   "metadata": {},
   "outputs": [
    {
     "name": "stdout",
     "output_type": "stream",
     "text": [
      "Found 19953 images belonging to 2 classes.\n"
     ]
    }
   ],
   "source": [
    "#分别对训练集、验证集和测试集构建data generator\n",
    "datagen = ImageDataGenerator()\n",
    "\n",
    "#剔除异常值后的训练集生成器\n",
    "train_generator = datagen.flow_from_directory('train_copy_2',\n",
    "                                              target_size=(img_size, img_size),\n",
    "                                              batch_size=batch_size,\n",
    "                                              class_mode='binary',\n",
    "                                              shuffle=True)"
   ]
  },
  {
   "cell_type": "markdown",
   "metadata": {},
   "source": [
    "# Xception - 3 layers to train - dropout=0.5 - last conv in block 14"
   ]
  },
  {
   "cell_type": "code",
   "execution_count": 60,
   "metadata": {},
   "outputs": [
    {
     "name": "stdout",
     "output_type": "stream",
     "text": [
      "Epoch 1/10\n",
      "624/625 [============================>.] - ETA: 0s - loss: 0.0470 - acc: 0.9853\n",
      "Epoch 00001: val_loss improved from inf to 0.02186, saving model to /home/ubuntu/capstone/dog_vs_cat/top_model_weights_Xception_3layers_dropout0.5_no_outliers.h5\n",
      "625/625 [==============================] - 644s 1s/step - loss: 0.0469 - acc: 0.9853 - val_loss: 0.0219 - val_acc: 0.9936\n",
      "Epoch 2/10\n",
      "624/625 [============================>.] - ETA: 0s - loss: 0.0271 - acc: 0.9903\n",
      "Epoch 00002: val_loss did not improve\n",
      "625/625 [==============================] - 465s 744ms/step - loss: 0.0271 - acc: 0.9903 - val_loss: 0.0236 - val_acc: 0.9921\n",
      "Epoch 3/10\n",
      "624/625 [============================>.] - ETA: 0s - loss: 0.0221 - acc: 0.9925\n",
      "Epoch 00003: val_loss did not improve\n",
      "625/625 [==============================] - 465s 744ms/step - loss: 0.0221 - acc: 0.9925 - val_loss: 0.0226 - val_acc: 0.9928\n",
      "Epoch 4/10\n",
      "624/625 [============================>.] - ETA: 0s - loss: 0.0158 - acc: 0.9948\n",
      "Epoch 00004: val_loss did not improve\n",
      "625/625 [==============================] - 465s 744ms/step - loss: 0.0157 - acc: 0.9948 - val_loss: 0.0339 - val_acc: 0.9913\n",
      "Epoch 5/10\n",
      "624/625 [============================>.] - ETA: 0s - loss: 0.0137 - acc: 0.9959\n",
      "Epoch 00005: val_loss did not improve\n",
      "625/625 [==============================] - 465s 744ms/step - loss: 0.0137 - acc: 0.9959 - val_loss: 0.0268 - val_acc: 0.9926\n",
      "Epoch 6/10\n",
      "624/625 [============================>.] - ETA: 0s - loss: 0.0106 - acc: 0.9965\n",
      "Epoch 00006: val_loss did not improve\n",
      "625/625 [==============================] - 465s 745ms/step - loss: 0.0106 - acc: 0.9965 - val_loss: 0.0255 - val_acc: 0.9930\n"
     ]
    }
   ],
   "source": [
    "model = build_model(Xception, (299, 299), layer_to_train=3, dropout=0.5, preprocess=xception.preprocess_input)\n",
    "model, history = train_base_model(model, \n",
    "                                  epoch=10, \n",
    "                                  top_weights='top_model_weights_Xception_3layers_dropout0.5_no_outliers.h5', \n",
    "                                  final_model='model_Xception_3layers_dropout0.5_no_outliers.json')\n",
    "history_name = 'history_Xception_adadelta_3layers_dropout0.5_no_outliers.txt'\n",
    "save_history(history, history_name)"
   ]
  },
  {
   "cell_type": "code",
   "execution_count": 61,
   "metadata": {},
   "outputs": [],
   "source": [
    "save_his_to_csv('history_Xception_adadelta_3layers_dropout0.5_no_outliers.txt')"
   ]
  },
  {
   "cell_type": "code",
   "execution_count": 62,
   "metadata": {},
   "outputs": [
    {
     "data": {
      "image/png": "[encoded data removed]",
      "text/plain": [
       "<matplotlib.figure.Figure at 0x7f7fc8347da0>"
      ]
     },
     "metadata": {},
     "output_type": "display_data"
    },
    {
     "name": "stdout",
     "output_type": "stream",
     "text": [
      "{'val_loss': [0.021858758209325455, 0.023624532831114403, 0.022594466646254023, 0.03387338615233684, 0.026788919281034322, 0.02553549201479911], 'loss': [0.046945616419382594, 0.02707219328624116, 0.022075553036329597, 0.015754392356752755, 0.013703214709707232, 0.010576713669715201], 'acc': [0.9853390042531899, 0.9902927195396547, 0.9925444083092121, 0.9948461346009507, 0.9959469602201652, 0.9964973730297724], 'val_acc': [0.9935897435897436, 0.9921497584541062, 0.9927536231884058, 0.9913446054750402, 0.9925523349436393, 0.9929549114331723]}\n"
     ]
    }
   ],
   "source": [
    "history = load_history('history_Xception_adadelta_3layers_dropout0.5_no_outliers.txt')\n",
    "plot_print_history(history, title='history_Xception_3layers_dropout0.5_no_outliers', to_print=True)"
   ]
  },
  {
   "cell_type": "code",
   "execution_count": 63,
   "metadata": {},
   "outputs": [
    {
     "name": "stdout",
     "output_type": "stream",
     "text": [
      "391/391 [==============================] - 251s 641ms/step\n"
     ]
    }
   ],
   "source": [
    "#使用训练完成后最终的权重值在测试集上预测\n",
    "pred = predict(model, test_generator)\n",
    "save_to_sub(pred, 'submission20180416_3layers_dropout0.5_no_outliers_final_weights.csv')"
   ]
  },
  {
   "cell_type": "code",
   "execution_count": 65,
   "metadata": {
    "collapsed": true
   },
   "outputs": [],
   "source": [
    "#submission20180318_3layers_dropout0.5_final_weights.csv\n",
    "#test logloss 0.04467"
   ]
  },
  {
   "cell_type": "code",
   "execution_count": 66,
   "metadata": {
    "collapsed": true
   },
   "outputs": [],
   "source": [
    "#submission20180416_3layers_no_outliers_final_weights.csv\n",
    "#test logloss 0.04994"
   ]
  },
  {
   "cell_type": "code",
   "execution_count": 67,
   "metadata": {},
   "outputs": [
    {
     "name": "stdout",
     "output_type": "stream",
     "text": [
      "391/391 [==============================] - 247s 633ms/step\n"
     ]
    }
   ],
   "source": [
    "#使用在验证集上表现最好的权重值在测试集上预测预测\n",
    "model.load_weights('top_model_weights_Xception_3layers_dropout0.5_no_outliers.h5')\n",
    "pred = predict(model, test_generator)\n",
    "save_to_sub(pred, 'submission20180416_3layers_dropout0.5_no_outliers_top_weights.csv')"
   ]
  },
  {
   "cell_type": "code",
   "execution_count": 68,
   "metadata": {
    "collapsed": true
   },
   "outputs": [],
   "source": [
    "#submission20180318_3layers_dropout0.5_top_weights.csv\n",
    "#test logloss 0.04374"
   ]
  },
  {
   "cell_type": "code",
   "execution_count": null,
   "metadata": {
    "collapsed": true
   },
   "outputs": [],
   "source": [
    "#submission20180416_3layers_dropout0.5_no_outliers_top_weights.csv\n",
    "#test logloss 0.04901"
   ]
  },
  {
   "cell_type": "markdown",
   "metadata": {},
   "source": [
    "# Xception - 6 layers to train - dropout=0.5 - block 14"
   ]
  },
  {
   "cell_type": "code",
   "execution_count": null,
   "metadata": {},
   "outputs": [
    {
     "name": "stdout",
     "output_type": "stream",
     "text": [
      "Epoch 1/10\n",
      " 56/625 [=>............................] - ETA: 6:55 - loss: 0.1053 - acc: 0.9632"
     ]
    }
   ],
   "source": [
    "model = build_model(Xception, (299, 299), layer_to_train=6, dropout=0.5, preprocess=xception.preprocess_input)\n",
    "model, history = train_base_model(model, \n",
    "                                  epoch=10, \n",
    "                                  top_weights='top_model_weights_Xception_6layers_dropout0.5_no_outliers.h5', \n",
    "                                  final_model='model_Xception_6layers_dropout0.5_no_outliers.json')\n",
    "history_name = 'history_Xception_adadelta_6layers_dropout0.5_no_outliers.txt'\n",
    "save_history(history, history_name)"
   ]
  },
  {
   "cell_type": "code",
   "execution_count": null,
   "metadata": {
    "collapsed": true
   },
   "outputs": [],
   "source": [
    "save_his_to_csv('history_Xception_adadelta_6layers_dropout0.5_no_outliers.txt')"
   ]
  },
  {
   "cell_type": "code",
   "execution_count": null,
   "metadata": {},
   "outputs": [],
   "source": [
    "history = load_history('history_Xception_adadelta_6layers_dropout0.5_no_outliers.txt')\n",
    "plot_print_history(history, title='history_Xception_6layers_dropout0.5_no_outliers', to_print=True)"
   ]
  },
  {
   "cell_type": "code",
   "execution_count": null,
   "metadata": {},
   "outputs": [],
   "source": [
    "#使用训练完成后最终的权重值在测试集上预测\n",
    "pred = predict(model, test_generator)\n",
    "save_to_sub(pred, 'submission20180416_6layers_dropout0.5_no_outliers_final_weights.csv')"
   ]
  },
  {
   "cell_type": "code",
   "execution_count": null,
   "metadata": {
    "collapsed": true
   },
   "outputs": [],
   "source": [
    "#submission20180318_6layers_final_weights.csv\n",
    "#test logloss 0.04923"
   ]
  },
  {
   "cell_type": "code",
   "execution_count": null,
   "metadata": {
    "collapsed": true
   },
   "outputs": [],
   "source": [
    "#submission20180416_6layers_dropout0.5_no_outliers_final_weights.csv\n",
    "#test logloss 0.04635"
   ]
  },
  {
   "cell_type": "code",
   "execution_count": null,
   "metadata": {},
   "outputs": [],
   "source": [
    "#使用在验证集上表现最好的权重值在测试集上预测预测\n",
    "model.load_weights('top_model_weights_Xception_6layers_dropout0.5_no_outliers.h5')\n",
    "pred = predict(model, test_generator)\n",
    "save_to_sub(pred, 'submission20180416_6layers_dropout0.5_no_outliers_top_weights.csv')"
   ]
  },
  {
   "cell_type": "code",
   "execution_count": null,
   "metadata": {
    "collapsed": true
   },
   "outputs": [],
   "source": [
    "#submission20180318_6layers_top_weights.csv\n",
    "#test logloss 0.04500"
   ]
  },
  {
   "cell_type": "code",
   "execution_count": null,
   "metadata": {
    "collapsed": true
   },
   "outputs": [],
   "source": [
    "#submission20180416_6layers_no_outliers_top_weights.csv\n",
    "#test logloss 0.04696"
   ]
  },
  {
   "cell_type": "markdown",
   "metadata": {
    "collapsed": true
   },
   "source": [
    "# Xception - 16 layers to train - dropout=0.5 - block 13 & 14"
   ]
  },
  {
   "cell_type": "code",
   "execution_count": null,
   "metadata": {},
   "outputs": [],
   "source": [
    "model = build_model(Xception, (299, 299), layer_to_train=16, dropout=0.5, preprocess=xception.preprocess_input)\n",
    "model, history = train_base_model(model, \n",
    "                                  epoch=10, \n",
    "                                  top_weights='top_model_weights_Xception_16layers_dropout0.5_no_outliers.h5', \n",
    "                                  final_model='model_Xception_16layers_dropout0.5_no_outliers.json')\n",
    "history_name = 'history_Xception_adadelta_16layers_dropout0.5_no_outliers.txt'\n",
    "save_history(history, history_name)"
   ]
  },
  {
   "cell_type": "code",
   "execution_count": null,
   "metadata": {
    "collapsed": true
   },
   "outputs": [],
   "source": [
    "save_his_to_csv('history_Xception_adadelta_16layers_dropout0.5_no_outliers.txt')"
   ]
  },
  {
   "cell_type": "code",
   "execution_count": null,
   "metadata": {},
   "outputs": [],
   "source": [
    "history = load_history('history_Xception_adadelta_16layers_dropout0.5_no_outliers.txt')\n",
    "plot_print_history(history, title='history_Xception_16layers_dropout0.5_no_outliers', to_print=True)"
   ]
  },
  {
   "cell_type": "code",
   "execution_count": null,
   "metadata": {},
   "outputs": [],
   "source": [
    "#使用训练完成后最终的权重值在测试集上预测\n",
    "pred = predict(model, test_generator)\n",
    "save_to_sub(pred, 'submission20180416_16layers_dropout0.5_no_outliers_final_weights.csv')"
   ]
  },
  {
   "cell_type": "code",
   "execution_count": null,
   "metadata": {
    "collapsed": true
   },
   "outputs": [],
   "source": [
    "#submission20180318_16layers_dropout0.5_final_weights.csv\n",
    "#test logloss 0.04461"
   ]
  },
  {
   "cell_type": "code",
   "execution_count": null,
   "metadata": {
    "collapsed": true
   },
   "outputs": [],
   "source": [
    "#submission20180416_16layers_dropout0.5_no_outliers_final_weights.csv\n",
    "#test logloss 0.03954"
   ]
  },
  {
   "cell_type": "code",
   "execution_count": null,
   "metadata": {},
   "outputs": [],
   "source": [
    "#使用在验证集上表现最好的权重值在测试集上预测预测\n",
    "model.load_weights('top_model_weights_Xception_16layers_dropout0.5_no_outliers.h5')\n",
    "pred = predict(model, test_generator)\n",
    "save_to_sub(pred, 'submission20180416_16layers_dropout0.5_no_outliers_top_weights.csv')"
   ]
  },
  {
   "cell_type": "code",
   "execution_count": null,
   "metadata": {
    "collapsed": true
   },
   "outputs": [],
   "source": [
    "#submission20180318_16layers_dropout0.5_top_weights.csv\n",
    "#test logloss 0.03993"
   ]
  },
  {
   "cell_type": "code",
   "execution_count": null,
   "metadata": {
    "collapsed": true
   },
   "outputs": [],
   "source": [
    "#submission20180416_16layers_dropout0.5_no_outliers_top_weights.csv\n",
    "#test logloss 0.03925"
   ]
  },
  {
   "cell_type": "markdown",
   "metadata": {},
   "source": [
    "# Xception - 3 layers to train - dropout=0.7 - last conv in block 14"
   ]
  },
  {
   "cell_type": "code",
   "execution_count": null,
   "metadata": {},
   "outputs": [],
   "source": [
    "model = build_model(Xception, (299, 299), layer_to_train=3, dropout=0.7, preprocess=xception.preprocess_input)\n",
    "model, history = train_base_model(model, \n",
    "                                  epoch=10, \n",
    "                                  top_weights='top_model_weights_Xception_3layers_dropout0.7_no_outliers.h5', \n",
    "                                  final_model='model_Xception_3layers_dropout0.7_no_outliers.json')\n",
    "history_name = 'history_Xception_adadelta_3layers_dropout0.7_no_outliers.txt'\n",
    "save_history(history, history_name)"
   ]
  },
  {
   "cell_type": "code",
   "execution_count": null,
   "metadata": {
    "collapsed": true
   },
   "outputs": [],
   "source": [
    "save_his_to_csv('history_Xception_adadelta_3layers_dropout0.7_no_outliers.txt')"
   ]
  },
  {
   "cell_type": "code",
   "execution_count": null,
   "metadata": {},
   "outputs": [],
   "source": [
    "history = load_history('history_Xception_adadelta_3layers_dropout0.7_no_outliers.txt')\n",
    "plot_print_history(history, title='history_Xception_3layers_dropout0.7_no_outliers', to_print=True)"
   ]
  },
  {
   "cell_type": "code",
   "execution_count": null,
   "metadata": {},
   "outputs": [],
   "source": [
    "#使用训练完成后最终的权重值在测试集上预测\n",
    "pred = predict(model, test_generator)\n",
    "save_to_sub(pred, 'submission20180416_3layers_dropout0.7_no_outliers_final_weights.csv')"
   ]
  },
  {
   "cell_type": "code",
   "execution_count": null,
   "metadata": {
    "collapsed": true
   },
   "outputs": [],
   "source": [
    "#submission20180318_3layers_dropout0.7_final_weights.csv\n",
    "#test logloss 0.04899"
   ]
  },
  {
   "cell_type": "code",
   "execution_count": null,
   "metadata": {
    "collapsed": true
   },
   "outputs": [],
   "source": [
    "#submission20180416_3layers_dropout0.7_no_outliers_final_weights.csv\n",
    "#test logloss 0.04887"
   ]
  },
  {
   "cell_type": "code",
   "execution_count": null,
   "metadata": {},
   "outputs": [],
   "source": [
    "#使用在验证集上表现最好的权重值在测试集上预测预测\n",
    "model.load_weights('top_model_weights_Xception_3layers_dropout0.7_no_outliers.h5')\n",
    "pred = predict(model, test_generator)\n",
    "save_to_sub(pred, 'submission20180416_3layers_dropout0.7_no_outliers_top_weights.csv')"
   ]
  },
  {
   "cell_type": "code",
   "execution_count": null,
   "metadata": {
    "collapsed": true
   },
   "outputs": [],
   "source": [
    "#submission20180318_3layers_dropout0.7_top_weights.csv\n",
    "#test logloss 0.04844"
   ]
  },
  {
   "cell_type": "code",
   "execution_count": null,
   "metadata": {
    "collapsed": true
   },
   "outputs": [],
   "source": [
    "#submission20180416_3layers_dropout0.7_no_outliers_top_weights.csv\n",
    "#test logloss 0.04742"
   ]
  },
  {
   "cell_type": "markdown",
   "metadata": {},
   "source": [
    "# Xception - 6 layers to train - dropout=0.7 - block 14"
   ]
  },
  {
   "cell_type": "code",
   "execution_count": null,
   "metadata": {},
   "outputs": [],
   "source": [
    "model = build_model(Xception, (299, 299), layer_to_train=6, dropout=0.7, preprocess=xception.preprocess_input)\n",
    "model, history = train_base_model(model, \n",
    "                                  epoch=10, \n",
    "                                  top_weights='top_model_weights_Xception_6layers_dropout0.7_no_outliers.h5', \n",
    "                                  final_model='model_Xception_6layers_dropout0.7_no_outliers.json')\n",
    "history_name = 'history_Xception_adadelta_6layers_dropout0.7_no_outliers.txt'\n",
    "save_history(history, history_name)"
   ]
  },
  {
   "cell_type": "code",
   "execution_count": null,
   "metadata": {
    "collapsed": true
   },
   "outputs": [],
   "source": [
    "save_his_to_csv('history_Xception_adadelta_6layers_dropout0.7_no_outliers.txt')"
   ]
  },
  {
   "cell_type": "code",
   "execution_count": null,
   "metadata": {},
   "outputs": [],
   "source": [
    "history = load_history('history_Xception_adadelta_6layers_dropout0.7_no_outliers.txt')\n",
    "plot_print_history(history, title='history_Xception_6layers_dropout0.7_no_outliers', to_print=True)"
   ]
  },
  {
   "cell_type": "code",
   "execution_count": null,
   "metadata": {},
   "outputs": [],
   "source": [
    "#使用训练完成后最终的权重值在测试集上预测\n",
    "pred = predict(model, test_generator)\n",
    "save_to_sub(pred, 'submission20180416_6layers_dropout0.7_no_outliers_final_weights.csv')"
   ]
  },
  {
   "cell_type": "code",
   "execution_count": null,
   "metadata": {
    "collapsed": true
   },
   "outputs": [],
   "source": [
    "#submission20180318_6layers_dropout0.7_final_weights.csv\n",
    "#test logloss 0.05162"
   ]
  },
  {
   "cell_type": "code",
   "execution_count": null,
   "metadata": {
    "collapsed": true
   },
   "outputs": [],
   "source": [
    "#submission20180416_6layers_dropout0.7_no_outliers_final_weights.csv\n",
    "#test logloss 0.04708"
   ]
  },
  {
   "cell_type": "code",
   "execution_count": null,
   "metadata": {},
   "outputs": [],
   "source": [
    "#使用在验证集上表现最好的权重值在测试集上预测预测\n",
    "model.load_weights('top_model_weights_Xception_6layers_dropout0.7_no_outliers.h5')\n",
    "pred = predict(model, test_generator)\n",
    "save_to_sub(pred, 'submission20180416_6layers_dropout0.7_no_outliers_top_weights.csv')"
   ]
  },
  {
   "cell_type": "code",
   "execution_count": null,
   "metadata": {
    "collapsed": true
   },
   "outputs": [],
   "source": [
    "#submission20180318_6layers_dropout0.7_top_weights.csv\n",
    "#test logloss 0.04205"
   ]
  },
  {
   "cell_type": "code",
   "execution_count": null,
   "metadata": {
    "collapsed": true
   },
   "outputs": [],
   "source": [
    "#submission20180416_6layers_dropout0.7_no_outliers_top_weights.csv\n",
    "#test logloss 0.04499"
   ]
  },
  {
   "cell_type": "markdown",
   "metadata": {},
   "source": [
    "# Xception - 16 layers to train - dropout=0.7 - block 13 & 14"
   ]
  },
  {
   "cell_type": "code",
   "execution_count": null,
   "metadata": {},
   "outputs": [],
   "source": [
    "model = build_model(Xception, (299, 299), layer_to_train=16, dropout=0.7, preprocess=xception.preprocess_input)\n",
    "model, history = train_base_model(model, \n",
    "                                  epoch=10, \n",
    "                                  top_weights='top_model_weights_Xception_16layers_dropout0.7_no_outliers.h5', \n",
    "                                  final_model='model_Xception_16layers_dropout0.7_no_outliers.json')\n",
    "history_name = 'history_Xception_adadelta_16layers_dropout0.7_no_outliers.txt'\n",
    "save_history(history, history_name)"
   ]
  },
  {
   "cell_type": "code",
   "execution_count": null,
   "metadata": {
    "collapsed": true
   },
   "outputs": [],
   "source": [
    "save_his_to_csv('history_Xception_adadelta_16layers_dropout0.7_no_outliers.txt')"
   ]
  },
  {
   "cell_type": "code",
   "execution_count": null,
   "metadata": {},
   "outputs": [],
   "source": [
    "history = load_history('history_Xception_adadelta_16layers_dropout0.7_no_outliers.txt')\n",
    "plot_print_history(history, title='history_Xception_16layers_dropout0.7_no_outliers', to_print=True)"
   ]
  },
  {
   "cell_type": "code",
   "execution_count": null,
   "metadata": {},
   "outputs": [],
   "source": [
    "#使用训练完成后最终的权重值在测试集上预测\n",
    "pred = predict(model, test_generator)\n",
    "save_to_sub(pred, 'submission20180416_16layers_dropout0.7_no_outliers_final_weights.csv')"
   ]
  },
  {
   "cell_type": "code",
   "execution_count": null,
   "metadata": {
    "collapsed": true
   },
   "outputs": [],
   "source": [
    "#submission20180318_16layers_dropout0.7_final_weights.csv\n",
    "#test logloss 0.04120"
   ]
  },
  {
   "cell_type": "code",
   "execution_count": null,
   "metadata": {
    "collapsed": true
   },
   "outputs": [],
   "source": [
    "#submission20180416_16layers_dropout0.7_no_outliers_final_weights.csv\n",
    "#test logloss 0.04075"
   ]
  },
  {
   "cell_type": "code",
   "execution_count": null,
   "metadata": {},
   "outputs": [],
   "source": [
    "#使用在验证集上表现最好的权重值在测试集上预测预测\n",
    "model.load_weights('top_model_weights_Xception_16layers_dropout0.7_no_outliers.h5')\n",
    "pred = predict(model, test_generator)\n",
    "save_to_sub(pred, 'submission20180416_16layers_dropout0.7_no_outliers_top_weights.csv')"
   ]
  },
  {
   "cell_type": "code",
   "execution_count": null,
   "metadata": {
    "collapsed": true
   },
   "outputs": [],
   "source": [
    "#submission20180318_16layers_dropout0.7_top_weights.csv\n",
    "#test logloss 0.04065"
   ]
  },
  {
   "cell_type": "code",
   "execution_count": null,
   "metadata": {
    "collapsed": true
   },
   "outputs": [],
   "source": [
    "#submission20180416_16layers_dropout0.7_no_outliers_top_weights.csv\n",
    "#test logloss 0.03989"
   ]
  },
  {
   "cell_type": "markdown",
   "metadata": {},
   "source": [
    "# Xception - 3 layers to train - dropout=0.6 - last conv in block 14"
   ]
  },
  {
   "cell_type": "code",
   "execution_count": null,
   "metadata": {},
   "outputs": [],
   "source": [
    "model = build_model(Xception, (299, 299), layer_to_train=3, dropout=0.6, preprocess=xception.preprocess_input)\n",
    "model, history = train_base_model(model, \n",
    "                                  epoch=10, \n",
    "                                  top_weights='top_model_weights_Xception_3layers_dropout0.6_no_outliers.h5', \n",
    "                                  final_model='model_Xception_3layers_dropout0.6_no_outliers.json')\n",
    "history_name = 'history_Xception_adadelta_3layers_dropout0.6_no_outliers.txt'\n",
    "save_history(history, history_name)"
   ]
  },
  {
   "cell_type": "code",
   "execution_count": null,
   "metadata": {
    "collapsed": true
   },
   "outputs": [],
   "source": [
    "save_his_to_csv('history_Xception_adadelta_3layers_dropout0.6_no_outliers.txt')"
   ]
  },
  {
   "cell_type": "code",
   "execution_count": null,
   "metadata": {},
   "outputs": [],
   "source": [
    "history = load_history('history_Xception_adadelta_3layers_dropout0.6_no_outliers.txt')\n",
    "plot_print_history(history, title='history_Xception_3layers_dropout0.6_no_outliers', to_print=True)"
   ]
  },
  {
   "cell_type": "code",
   "execution_count": null,
   "metadata": {},
   "outputs": [],
   "source": [
    "#使用训练完成后最终的权重值在测试集上预测\n",
    "pred = predict(model, test_generator)\n",
    "save_to_sub(pred, 'submission20180416_3layers_dropout0.6_no_outliers_final_weights.csv')"
   ]
  },
  {
   "cell_type": "code",
   "execution_count": null,
   "metadata": {
    "collapsed": true
   },
   "outputs": [],
   "source": [
    "#submission20180318_3layers_dropout0.6_final_weights.csv\n",
    "#test logloss 0.05009"
   ]
  },
  {
   "cell_type": "code",
   "execution_count": null,
   "metadata": {
    "collapsed": true
   },
   "outputs": [],
   "source": [
    "#submission20180416_3layers_dropout0.6_no_outliers_final_weights.csv\n",
    "#test logloss 0.05473"
   ]
  },
  {
   "cell_type": "code",
   "execution_count": null,
   "metadata": {},
   "outputs": [],
   "source": [
    "#使用在验证集上表现最好的权重值在测试集上预测预测\n",
    "model.load_weights('top_model_weights_Xception_3layers_dropout0.6_no_outliers.h5')\n",
    "pred = predict(model, test_generator)\n",
    "save_to_sub(pred, 'submission20180416_3layers_dropout0.6_no_outliers_top_weights.csv')"
   ]
  },
  {
   "cell_type": "code",
   "execution_count": null,
   "metadata": {
    "collapsed": true
   },
   "outputs": [],
   "source": [
    "#submission20180318_3layers_dropout0.6_top_weights.csv\n",
    "#test logloss 0.04679"
   ]
  },
  {
   "cell_type": "code",
   "execution_count": null,
   "metadata": {
    "collapsed": true
   },
   "outputs": [],
   "source": [
    "#submission20180416_3layers_dropout0.6_no_outliers_top_weights.csv\n",
    "#test logloss 0.04909"
   ]
  },
  {
   "cell_type": "markdown",
   "metadata": {},
   "source": [
    "# Xception - 6 layers to train - dropout=0.6 - block 14"
   ]
  },
  {
   "cell_type": "code",
   "execution_count": null,
   "metadata": {},
   "outputs": [],
   "source": [
    "model = build_model(Xception, (299, 299), layer_to_train=6, dropout=0.6, preprocess=xception.preprocess_input)\n",
    "model, history = train_base_model(model, \n",
    "                                  epoch=10, \n",
    "                                  top_weights='top_model_weights_Xception_6layers_dropout0.6_no_outliers.h5', \n",
    "                                  final_model='model_Xception_6layers_dropout0.6_no_outliers.json')\n",
    "history_name = 'history_Xception_adadelta_6layers_dropout0.6_no_outliers.txt'\n",
    "save_history(history, history_name)"
   ]
  },
  {
   "cell_type": "code",
   "execution_count": null,
   "metadata": {
    "collapsed": true
   },
   "outputs": [],
   "source": [
    "save_his_to_csv('history_Xception_adadelta_6layers_dropout0.6_no_outliers.txt')"
   ]
  },
  {
   "cell_type": "code",
   "execution_count": null,
   "metadata": {},
   "outputs": [],
   "source": [
    "history = load_history('history_Xception_adadelta_6layers_dropout0.6_no_outliers.txt')\n",
    "plot_print_history(history, title='history_Xception_6layers_dropout0.6_no_outliers', to_print=True)"
   ]
  },
  {
   "cell_type": "code",
   "execution_count": null,
   "metadata": {},
   "outputs": [],
   "source": [
    "#使用训练完成后最终的权重值在测试集上预测\n",
    "pred = predict(model, test_generator)\n",
    "save_to_sub(pred, 'submission20180416_6layers_dropout0.6_no_outliers_final_weights.csv')"
   ]
  },
  {
   "cell_type": "code",
   "execution_count": null,
   "metadata": {
    "collapsed": true
   },
   "outputs": [],
   "source": [
    "#submission20180318_6layers_dropout0.6_final_weights.csv\n",
    "#test logloss 0.05379"
   ]
  },
  {
   "cell_type": "code",
   "execution_count": null,
   "metadata": {
    "collapsed": true
   },
   "outputs": [],
   "source": [
    "#submission20180416_6layers_dropout0.6_no_outliers_final_weights.csv\n",
    "#test logloss 0.05021"
   ]
  },
  {
   "cell_type": "code",
   "execution_count": null,
   "metadata": {},
   "outputs": [],
   "source": [
    "#使用在验证集上表现最好的权重值在测试集上预测预测\n",
    "model.load_weights('top_model_weights_Xception_6layers_dropout0.6_no_outliers.h5')\n",
    "pred = predict(model, test_generator)\n",
    "save_to_sub(pred, 'submission20180416_6layers_dropout0.6_no_outliers_top_weights.csv')"
   ]
  },
  {
   "cell_type": "code",
   "execution_count": null,
   "metadata": {
    "collapsed": true
   },
   "outputs": [],
   "source": [
    "#submission20180318_6layers_dropout0.6_top_weights.csv\n",
    "#test logloss 0.04679"
   ]
  },
  {
   "cell_type": "code",
   "execution_count": null,
   "metadata": {
    "collapsed": true
   },
   "outputs": [],
   "source": [
    "#submission20180416_6layers_dropout0.6_no_outliers_top_weights.csv\n",
    "#test logloss 0.04577"
   ]
  },
  {
   "cell_type": "markdown",
   "metadata": {},
   "source": [
    "# Xception - 16 layers to train - dropout=0.6 - block 13 & 14"
   ]
  },
  {
   "cell_type": "code",
   "execution_count": null,
   "metadata": {},
   "outputs": [],
   "source": [
    "model = build_model(Xception, (299, 299), layer_to_train=16, dropout=0.6, preprocess=xception.preprocess_input)\n",
    "model, history = train_base_model(model, \n",
    "                                  epoch=10, \n",
    "                                  top_weights='top_model_weights_Xception_16layers_dropout0.6_no_outliers.h5', \n",
    "                                  final_model='model_Xception_16layers_dropout0.6_no_outliers.json')\n",
    "history_name = 'history_Xception_adadelta_16layers_dropout0.6_no_outliers.txt'\n",
    "save_history(history, history_name)"
   ]
  },
  {
   "cell_type": "code",
   "execution_count": null,
   "metadata": {
    "collapsed": true
   },
   "outputs": [],
   "source": [
    "save_his_to_csv('history_Xception_adadelta_16layers_dropout0.6_no_outliers.txt')"
   ]
  },
  {
   "cell_type": "code",
   "execution_count": null,
   "metadata": {},
   "outputs": [],
   "source": [
    "history = load_history('history_Xception_adadelta_16layers_dropout0.6_no_outliers.txt')\n",
    "plot_print_history(history, title='history_Xception_16layers_dropout0.6_no_outliers', to_print=True)"
   ]
  },
  {
   "cell_type": "code",
   "execution_count": null,
   "metadata": {},
   "outputs": [],
   "source": [
    "#使用训练完成后最终的权重值在测试集上预测\n",
    "pred = predict(model, test_generator)\n",
    "save_to_sub(pred, 'submission20180416_16layers_dropout0.6_no_outliers_final_weights.csv')"
   ]
  },
  {
   "cell_type": "code",
   "execution_count": null,
   "metadata": {
    "collapsed": true
   },
   "outputs": [],
   "source": [
    "#submission20180318_16layers_dropout0.6_final_weights.csv\n",
    "#test logloss 0.04794"
   ]
  },
  {
   "cell_type": "code",
   "execution_count": null,
   "metadata": {
    "collapsed": true
   },
   "outputs": [],
   "source": [
    "#submission20180416_16layers_dropout0.6_no_outliers_final_weights.csv\n",
    "#test logloss 0.04156"
   ]
  },
  {
   "cell_type": "code",
   "execution_count": null,
   "metadata": {},
   "outputs": [],
   "source": [
    "#使用在验证集上表现最好的权重值在测试集上预测预测\n",
    "model.load_weights('top_model_weights_Xception_16layers_dropout0.6_no_outliers.h5')\n",
    "pred = predict(model, test_generator)\n",
    "save_to_sub(pred, 'submission20180416_16layers_dropout0.6_no_outliers_top_weights.csv')"
   ]
  },
  {
   "cell_type": "code",
   "execution_count": null,
   "metadata": {
    "collapsed": true
   },
   "outputs": [],
   "source": [
    "#submission20180318_16layers_dropout0.6_top_weights.csv\n",
    "#test logloss 0.03896"
   ]
  },
  {
   "cell_type": "code",
   "execution_count": null,
   "metadata": {
    "collapsed": true
   },
   "outputs": [],
   "source": [
    "#submission20180416_16layers_dropout0.6_no_outliers_top_weights.csv\n",
    "#test logloss 0.03911"
   ]
  },
  {
   "cell_type": "markdown",
   "metadata": {},
   "source": [
    "# Xception - 26 layers to train - dropout=0.5 - block 12, 13 & 14"
   ]
  },
  {
   "cell_type": "code",
   "execution_count": null,
   "metadata": {},
   "outputs": [],
   "source": [
    "model = build_model(Xception, (299, 299), layer_to_train=26, dropout=0.5, preprocess=xception.preprocess_input)\n",
    "model, history = train_base_model(model, \n",
    "                                  epoch=10, \n",
    "                                  top_weights='top_model_weights_Xception_26layers_dropout0.5_no_outliers.h5', \n",
    "                                  final_model='model_Xception_26layers_dropout0.5_no_outliers.json')\n",
    "history_name = 'history_Xception_adadelta_26layers_dropout0.5_no_outliers.txt'\n",
    "save_history(history, history_name)"
   ]
  },
  {
   "cell_type": "code",
   "execution_count": null,
   "metadata": {
    "collapsed": true
   },
   "outputs": [],
   "source": [
    "save_his_to_csv('history_Xception_adadelta_26layers_dropout0.5_no_outliers.txt')"
   ]
  },
  {
   "cell_type": "code",
   "execution_count": null,
   "metadata": {},
   "outputs": [],
   "source": [
    "history = load_history('history_Xception_adadelta_26layers_dropout0.5_no_outliers.txt')\n",
    "plot_print_history(history, title='history_Xception_26layers_dropout0.5_no_outliers', to_print=True)"
   ]
  },
  {
   "cell_type": "code",
   "execution_count": null,
   "metadata": {
    "collapsed": true
   },
   "outputs": [],
   "source": [
    "#使用训练完成后最终的权重值在测试集上预测\n",
    "pred = predict(model, test_generator)\n",
    "save_to_sub(pred, 'submission20180416_26layers_dropout0.5_no_outliers_final_weights.csv')"
   ]
  },
  {
   "cell_type": "code",
   "execution_count": null,
   "metadata": {
    "collapsed": true
   },
   "outputs": [],
   "source": [
    "#submission20180318_26layers_dropout0.5_final_weights.csv\n",
    "#test logloss 0.04418"
   ]
  },
  {
   "cell_type": "code",
   "execution_count": null,
   "metadata": {
    "collapsed": true
   },
   "outputs": [],
   "source": [
    "#submission20180416_26layers_dropout0.5_no_outliers_final_weights.csv\n",
    "#test logloss 0.04366"
   ]
  },
  {
   "cell_type": "code",
   "execution_count": null,
   "metadata": {
    "collapsed": true
   },
   "outputs": [],
   "source": [
    "#使用在验证集上表现最好的权重值在测试集上预测预测\n",
    "model.load_weights('top_model_weights_Xception_26layers_dropout0.5_no_outliers.h5')\n",
    "pred = predict(model, test_generator)\n",
    "save_to_sub(pred, 'submission20180416_26layers_dropout0.5_no_outliers_top_weights.csv')"
   ]
  },
  {
   "cell_type": "code",
   "execution_count": null,
   "metadata": {
    "collapsed": true
   },
   "outputs": [],
   "source": [
    "#submission20180318_26layers_dropout0.5_top_weights.csv\n",
    "#test logloss 0.04489"
   ]
  },
  {
   "cell_type": "code",
   "execution_count": null,
   "metadata": {
    "collapsed": true
   },
   "outputs": [],
   "source": [
    "#submission20180416_26layers_dropout0.5_no_outliers_top_weights.csv\n",
    "#test logloss 0.03992"
   ]
  },
  {
   "cell_type": "markdown",
   "metadata": {},
   "source": [
    "# Xception - 26 layers to train - dropout=0.6 - block 12, 13 & 14"
   ]
  },
  {
   "cell_type": "code",
   "execution_count": null,
   "metadata": {},
   "outputs": [],
   "source": [
    "model = build_model(Xception, (299, 299), layer_to_train=26, dropout=0.6, preprocess=xception.preprocess_input)\n",
    "model, history = train_base_model(model, \n",
    "                                  epoch=10, \n",
    "                                  top_weights='top_model_weights_Xception_26layers_dropout0.6_no_outliers.h5', \n",
    "                                  final_model='model_Xception_26layers_dropout0.6_no_outliers.json')\n",
    "history_name = 'history_Xception_adadelta_26layers_dropout0.6_no_outliers.txt'\n",
    "save_history(history, history_name)"
   ]
  },
  {
   "cell_type": "code",
   "execution_count": null,
   "metadata": {
    "collapsed": true
   },
   "outputs": [],
   "source": [
    "save_his_to_csv('history_Xception_adadelta_26layers_dropout0.6_no_outliers.txt')"
   ]
  },
  {
   "cell_type": "code",
   "execution_count": null,
   "metadata": {},
   "outputs": [],
   "source": [
    "history = load_history('history_Xception_adadelta_26layers_dropout0.6_no_outliers.txt')\n",
    "plot_print_history(history, title='history_Xception_26layers_dropout0.6_no_outliers', to_print=True)"
   ]
  },
  {
   "cell_type": "code",
   "execution_count": null,
   "metadata": {},
   "outputs": [],
   "source": [
    "#使用训练完成后最终的权重值在测试集上预测\n",
    "pred = predict(model, test_generator)\n",
    "save_to_sub(pred, 'submission20180416_26layers_dropout0.6_no_outliers_final_weights.csv')"
   ]
  },
  {
   "cell_type": "code",
   "execution_count": null,
   "metadata": {
    "collapsed": true
   },
   "outputs": [],
   "source": [
    "#submission20180318_26layers_dropout0.6_final_weights.csv\n",
    "#test logloss 0.05169"
   ]
  },
  {
   "cell_type": "code",
   "execution_count": null,
   "metadata": {
    "collapsed": true
   },
   "outputs": [],
   "source": [
    "#submission20180416_26layers_dropout0.6_no_outliers_final_weights.csv\n",
    "#test logloss 0.04469"
   ]
  },
  {
   "cell_type": "code",
   "execution_count": null,
   "metadata": {},
   "outputs": [],
   "source": [
    "#使用在验证集上表现最好的权重值在测试集上预测预测\n",
    "model.load_weights('top_model_weights_Xception_26layers_dropout0.6_no_outliers.h5')\n",
    "pred = predict(model, test_generator)\n",
    "save_to_sub(pred, 'submission20180416_26layers_dropout0.6_no_outliers_top_weights.csv')"
   ]
  },
  {
   "cell_type": "code",
   "execution_count": null,
   "metadata": {
    "collapsed": true
   },
   "outputs": [],
   "source": [
    "#submission20180318_26layers_dropout0.6_top_weights.csv\n",
    "#test logloss 0.03868\n",
    "#best model with outliers"
   ]
  },
  {
   "cell_type": "code",
   "execution_count": null,
   "metadata": {
    "collapsed": true
   },
   "outputs": [],
   "source": [
    "#submission20180416_26layers_dropout0.6_no_outliers_top_weights.csv\n",
    "#test logloss 0.04387"
   ]
  },
  {
   "cell_type": "markdown",
   "metadata": {},
   "source": [
    "# Xception - 26 layers to train - dropout=0.7 - block 12, 13 & 14"
   ]
  },
  {
   "cell_type": "code",
   "execution_count": null,
   "metadata": {},
   "outputs": [],
   "source": [
    "model = build_model(Xception, (299, 299), layer_to_train=26, dropout=0.7, preprocess=xception.preprocess_input)\n",
    "model, history = train_base_model(model, \n",
    "                                  epoch=10, \n",
    "                                  top_weights='top_model_weights_Xception_26layers_dropout0.7_no_outliers.h5', \n",
    "                                  final_model='model_Xception_26layers_dropout0.7_no_outliers.json')\n",
    "history_name = 'history_Xception_adadelta_26layers_dropout0.7_no_outliers.txt'\n",
    "save_history(history, history_name)"
   ]
  },
  {
   "cell_type": "code",
   "execution_count": null,
   "metadata": {
    "collapsed": true
   },
   "outputs": [],
   "source": [
    "save_his_to_csv('history_Xception_adadelta_26layers_dropout0.7_no_outliers.txt')"
   ]
  },
  {
   "cell_type": "code",
   "execution_count": null,
   "metadata": {},
   "outputs": [],
   "source": [
    "history = load_history('history_Xception_adadelta_26layers_dropout0.7_no_outliers.txt')\n",
    "plot_print_history(history, title='history_Xception_26layers_dropout0.7_no_outliers', to_print=True)"
   ]
  },
  {
   "cell_type": "code",
   "execution_count": null,
   "metadata": {},
   "outputs": [],
   "source": [
    "#使用训练完成后最终的权重值在测试集上预测\n",
    "pred = predict(model, test_generator)\n",
    "save_to_sub(pred, 'submission20180416_26layers_dropout0.7_no_outliers_final_weights.csv')"
   ]
  },
  {
   "cell_type": "code",
   "execution_count": null,
   "metadata": {
    "collapsed": true
   },
   "outputs": [],
   "source": [
    "#submission20180318_26layers_dropout0.7_final_weights.csv\n",
    "#test logloss 0.04498"
   ]
  },
  {
   "cell_type": "code",
   "execution_count": null,
   "metadata": {
    "collapsed": true
   },
   "outputs": [],
   "source": [
    "#submission20180416_26layers_dropout0.7_no_outliers_final_weights.csv\n",
    "#test logloss 0.04018"
   ]
  },
  {
   "cell_type": "code",
   "execution_count": null,
   "metadata": {},
   "outputs": [],
   "source": [
    "#使用在验证集上表现最好的权重值在测试集上预测预测\n",
    "model.load_weights('top_model_weights_Xception_26layers_dropout0.7_no_outliers.h5')\n",
    "pred = predict(model, test_generator)\n",
    "save_to_sub(pred, 'submission20180416_26layers_dropout0.7_no_outliers_top_weights.csv')"
   ]
  },
  {
   "cell_type": "code",
   "execution_count": null,
   "metadata": {
    "collapsed": true
   },
   "outputs": [],
   "source": [
    "#submission20180318_26layers_dropout0.7_top_weights.csv\n",
    "#test logloss 0.03958"
   ]
  },
  {
   "cell_type": "code",
   "execution_count": null,
   "metadata": {
    "collapsed": true
   },
   "outputs": [],
   "source": [
    "#submission20180416_26layers_dropout0.7_no_outliers_top_weights.csv\n",
    "#test logloss 0.03921"
   ]
  },
  {
   "cell_type": "markdown",
   "metadata": {},
   "source": [
    "# Validation"
   ]
  },
  {
   "cell_type": "code",
   "execution_count": 195,
   "metadata": {},
   "outputs": [],
   "source": [
    "model = build_model(Xception, (299, 299), layer_to_train=16, dropout=0.6, preprocess=xception.preprocess_input)"
   ]
  },
  {
   "cell_type": "code",
   "execution_count": 196,
   "metadata": {},
   "outputs": [],
   "source": [
    "model = load_top_weights(model, 'top_model_weights_Xception_16layers_dropout0.6_no_outliers.h5')"
   ]
  },
  {
   "cell_type": "code",
   "execution_count": 197,
   "metadata": {},
   "outputs": [
    {
     "name": "stdout",
     "output_type": "stream",
     "text": [
      "157/157 [==============================] - 112s 713ms/step\n"
     ]
    }
   ],
   "source": [
    "valid_pred = predict(model, validation)"
   ]
  },
  {
   "cell_type": "code",
   "execution_count": 198,
   "metadata": {},
   "outputs": [],
   "source": [
    "back_up = valid_pred.reshape((5000))"
   ]
  },
  {
   "cell_type": "code",
   "execution_count": 199,
   "metadata": {},
   "outputs": [],
   "source": [
    "#提取出所有被错误预测为狗的猫图片（这里假设最终预测概率超过0.2的猫就被认为是预测为狗）\n",
    "#输出为图片在数据集中的序号（index）\n",
    "wrong_dog = np.array(np.where(back_up[:2500]>0.2))"
   ]
  },
  {
   "cell_type": "code",
   "execution_count": 200,
   "metadata": {
    "collapsed": true
   },
   "outputs": [],
   "source": [
    "#根据上面提取出的序号来提取图片的文件名\n",
    "wrong_dog_list = []\n",
    "for i in wrong_dog[0]:\n",
    "    wrong_dog_list.append(validation.filenames[i].split('/')[-1])"
   ]
  },
  {
   "cell_type": "code",
   "execution_count": 201,
   "metadata": {},
   "outputs": [],
   "source": [
    "#将提取的文件名与最终预测概率对应起来\n",
    "wrong_dog_dict = {}\n",
    "for i in range(len(wrong_dog_list)):\n",
    "    wrong_dog_dict[wrong_dog_list[i]] = valid_pred[wrong_dog[0][i]][0]"
   ]
  },
  {
   "cell_type": "code",
   "execution_count": 202,
   "metadata": {},
   "outputs": [
    {
     "data": {
      "text/plain": [
       "{'cat.10775.jpg': 0.28152797,\n",
       " 'cat.10926.jpg': 0.8495943,\n",
       " 'cat.11184.jpg': 0.5634234,\n",
       " 'cat.11194.jpg': 0.30800796,\n",
       " 'cat.11231.jpg': 0.26519027,\n",
       " 'cat.11413.jpg': 0.55144674,\n",
       " 'cat.11724.jpg': 0.98820657,\n",
       " 'cat.11844.jpg': 0.20006691,\n",
       " 'cat.1575.jpg': 0.4424874,\n",
       " 'cat.169.jpg': 0.42917517,\n",
       " 'cat.2150.jpg': 0.3556977,\n",
       " 'cat.258.jpg': 0.34271607,\n",
       " 'cat.2663.jpg': 0.59498036,\n",
       " 'cat.2757.jpg': 0.23225231,\n",
       " 'cat.3300.jpg': 0.75342494,\n",
       " 'cat.4008.jpg': 0.9580573,\n",
       " 'cat.4554.jpg': 0.27653337,\n",
       " 'cat.5347.jpg': 0.34133112,\n",
       " 'cat.5472.jpg': 0.24718417,\n",
       " 'cat.6655.jpg': 0.80401456,\n",
       " 'cat.7458.jpg': 0.8848207,\n",
       " 'cat.7574.jpg': 0.3156266,\n",
       " 'cat.8182.jpg': 0.5811208,\n",
       " 'cat.8418.jpg': 0.29834267,\n",
       " 'cat.8456.jpg': 0.53655726,\n",
       " 'cat.9444.jpg': 0.995,\n",
       " 'cat.9456.jpg': 0.5221939}"
      ]
     },
     "execution_count": 202,
     "metadata": {},
     "output_type": "execute_result"
    }
   ],
   "source": [
    "wrong_dog_dict"
   ]
  },
  {
   "cell_type": "code",
   "execution_count": null,
   "metadata": {
    "collapsed": true
   },
   "outputs": [],
   "source": [
    "col=4\n",
    "fig = plt.figure(1, (40, 50))\n",
    "row = int(len(wrong_dog_list)/col) + 1\n",
    "for k in range(len(wrong_dog_list)):\n",
    "    fig.add_subplot(row, col, k+1)\n",
    "    plt.title(wrong_dog_list[k])\n",
    "    img=mpimg.imread('validation/validation/'+wrong_dog_list[k])\n",
    "    plt.imshow(img)\n",
    "    plt.axis('off')\n",
    "plt.show()"
   ]
  },
  {
   "cell_type": "code",
   "execution_count": 204,
   "metadata": {},
   "outputs": [
    {
     "data": {
      "text/plain": [
       "27"
      ]
     },
     "execution_count": 204,
     "metadata": {},
     "output_type": "execute_result"
    }
   ],
   "source": [
    "#总共有27张猫的图片被预测为狗\n",
    "len(wrong_dog_dict)"
   ]
  },
  {
   "cell_type": "code",
   "execution_count": 205,
   "metadata": {},
   "outputs": [],
   "source": [
    "#提取出所有被错误预测为猫的狗图片\n",
    "#这里假设只要最终预测概率低于0.995的狗都被错误的预测为猫；\n",
    "#从实际预测结果来看，绝大部分预测错误的图片都被预测仅有0.005的概率为狗，或者说被认定为猫\n",
    "#输出为图片在数据集中的序号（index）\n",
    "wrong_cat = np.array(np.where(back_up[2500:]<0.995), dtype=int)"
   ]
  },
  {
   "cell_type": "code",
   "execution_count": 206,
   "metadata": {},
   "outputs": [],
   "source": [
    "#根据上面提取出的序号来提取图片的文件名\n",
    "wrong_cat_v2 = wrong_cat[0]+2500\n",
    "wrong_cat_list = []\n",
    "for i in wrong_cat_v2:\n",
    "    wrong_cat_list.append(validation.filenames[i].split('/')[-1])"
   ]
  },
  {
   "cell_type": "code",
   "execution_count": 207,
   "metadata": {},
   "outputs": [],
   "source": [
    "#将提取的文件名与最终预测概率对应起来\n",
    "wrong_cat_dict = {}\n",
    "for i in range(len(wrong_cat_list)):\n",
    "    wrong_cat_dict[wrong_cat_list[i]] = valid_pred[wrong_cat[0][i]][0]"
   ]
  },
  {
   "cell_type": "code",
   "execution_count": 208,
   "metadata": {},
   "outputs": [
    {
     "data": {
      "text/plain": [
       "{'dog.10142.jpg': 0.005,\n",
       " 'dog.10155.jpg': 0.005,\n",
       " 'dog.10225.jpg': 0.005,\n",
       " 'dog.10291.jpg': 0.005,\n",
       " 'dog.10326.jpg': 0.005,\n",
       " 'dog.10627.jpg': 0.005,\n",
       " 'dog.10752.jpg': 0.005,\n",
       " 'dog.10801.jpg': 0.005,\n",
       " 'dog.10807.jpg': 0.005,\n",
       " 'dog.10871.jpg': 0.005,\n",
       " 'dog.109.jpg': 0.005,\n",
       " 'dog.10939.jpg': 0.005,\n",
       " 'dog.10969.jpg': 0.8495943,\n",
       " 'dog.11161.jpg': 0.005,\n",
       " 'dog.11180.jpg': 0.005,\n",
       " 'dog.11198.jpg': 0.30800796,\n",
       " 'dog.11296.jpg': 0.005,\n",
       " 'dog.11299.jpg': 0.005,\n",
       " 'dog.11346.jpg': 0.005,\n",
       " 'dog.11412.jpg': 0.005,\n",
       " 'dog.11452.jpg': 0.005,\n",
       " 'dog.11525.jpg': 0.005,\n",
       " 'dog.11526.jpg': 0.005,\n",
       " 'dog.11585.jpg': 0.005,\n",
       " 'dog.11590.jpg': 0.005,\n",
       " 'dog.11709.jpg': 0.005,\n",
       " 'dog.11836.jpg': 0.005,\n",
       " 'dog.12.jpg': 0.005,\n",
       " 'dog.12061.jpg': 0.005,\n",
       " 'dog.12237.jpg': 0.005,\n",
       " 'dog.1229.jpg': 0.005,\n",
       " 'dog.12338.jpg': 0.005,\n",
       " 'dog.12352.jpg': 0.005,\n",
       " 'dog.12353.jpg': 0.005,\n",
       " 'dog.12382.jpg': 0.005,\n",
       " 'dog.1311.jpg': 0.005,\n",
       " 'dog.1475.jpg': 0.005,\n",
       " 'dog.1568.jpg': 0.005,\n",
       " 'dog.1648.jpg': 0.005,\n",
       " 'dog.1707.jpg': 0.005,\n",
       " 'dog.1773.jpg': 0.005,\n",
       " 'dog.1917.jpg': 0.005,\n",
       " 'dog.2027.jpg': 0.005,\n",
       " 'dog.2107.jpg': 0.005,\n",
       " 'dog.2256.jpg': 0.005,\n",
       " 'dog.2271.jpg': 0.005,\n",
       " 'dog.2325.jpg': 0.005,\n",
       " 'dog.2339.jpg': 0.005,\n",
       " 'dog.2364.jpg': 0.005,\n",
       " 'dog.2478.jpg': 0.005,\n",
       " 'dog.2615.jpg': 0.005,\n",
       " 'dog.2647.jpg': 0.005,\n",
       " 'dog.3099.jpg': 0.005,\n",
       " 'dog.3238.jpg': 0.005,\n",
       " 'dog.3283.jpg': 0.005,\n",
       " 'dog.3292.jpg': 0.005,\n",
       " 'dog.3300.jpg': 0.005,\n",
       " 'dog.3430.jpg': 0.005,\n",
       " 'dog.354.jpg': 0.005,\n",
       " 'dog.3642.jpg': 0.005,\n",
       " 'dog.3733.jpg': 0.005,\n",
       " 'dog.3744.jpg': 0.005,\n",
       " 'dog.3752.jpg': 0.005,\n",
       " 'dog.3759.jpg': 0.005,\n",
       " 'dog.3780.jpg': 0.005,\n",
       " 'dog.3855.jpg': 0.005,\n",
       " 'dog.3889.jpg': 0.005,\n",
       " 'dog.393.jpg': 0.005,\n",
       " 'dog.3957.jpg': 0.0061362595,\n",
       " 'dog.4116.jpg': 0.005,\n",
       " 'dog.412.jpg': 0.005,\n",
       " 'dog.4198.jpg': 0.005,\n",
       " 'dog.4359.jpg': 0.005,\n",
       " 'dog.4366.jpg': 0.005,\n",
       " 'dog.4468.jpg': 0.005,\n",
       " 'dog.4476.jpg': 0.005,\n",
       " 'dog.4521.jpg': 0.005,\n",
       " 'dog.4681.jpg': 0.005,\n",
       " 'dog.4690.jpg': 0.010444579,\n",
       " 'dog.4706.jpg': 0.020320201,\n",
       " 'dog.4730.jpg': 0.005,\n",
       " 'dog.4740.jpg': 0.005,\n",
       " 'dog.5170.jpg': 0.00550443,\n",
       " 'dog.5287.jpg': 0.005,\n",
       " 'dog.5317.jpg': 0.005,\n",
       " 'dog.5386.jpg': 0.005,\n",
       " 'dog.5475.jpg': 0.005,\n",
       " 'dog.5547.jpg': 0.005,\n",
       " 'dog.5605.jpg': 0.005,\n",
       " 'dog.5617.jpg': 0.005,\n",
       " 'dog.5642.jpg': 0.005,\n",
       " 'dog.5807.jpg': 0.005,\n",
       " 'dog.6061.jpg': 0.005,\n",
       " 'dog.607.jpg': 0.006758714,\n",
       " 'dog.6090.jpg': 0.005,\n",
       " 'dog.6167.jpg': 0.005,\n",
       " 'dog.6189.jpg': 0.005,\n",
       " 'dog.6199.jpg': 0.005,\n",
       " 'dog.6531.jpg': 0.005,\n",
       " 'dog.6806.jpg': 0.005,\n",
       " 'dog.6878.jpg': 0.005,\n",
       " 'dog.6963.jpg': 0.005,\n",
       " 'dog.6991.jpg': 0.005,\n",
       " 'dog.7076.jpg': 0.005,\n",
       " 'dog.7088.jpg': 0.005,\n",
       " 'dog.7265.jpg': 0.005,\n",
       " 'dog.7527.jpg': 0.3156266,\n",
       " 'dog.7592.jpg': 0.005,\n",
       " 'dog.7598.jpg': 0.005,\n",
       " 'dog.7662.jpg': 0.01451144,\n",
       " 'dog.7716.jpg': 0.005,\n",
       " 'dog.7825.jpg': 0.005,\n",
       " 'dog.7844.jpg': 0.005,\n",
       " 'dog.7913.jpg': 0.005,\n",
       " 'dog.8142.jpg': 0.005,\n",
       " 'dog.8157.jpg': 0.005,\n",
       " 'dog.8284.jpg': 0.005,\n",
       " 'dog.8297.jpg': 0.005,\n",
       " 'dog.8367.jpg': 0.005,\n",
       " 'dog.8421.jpg': 0.005,\n",
       " 'dog.848.jpg': 0.005,\n",
       " 'dog.8507.jpg': 0.005,\n",
       " 'dog.8607.jpg': 0.005,\n",
       " 'dog.8714.jpg': 0.005,\n",
       " 'dog.8764.jpg': 0.005,\n",
       " 'dog.8785.jpg': 0.005,\n",
       " 'dog.9016.jpg': 0.005,\n",
       " 'dog.9081.jpg': 0.005,\n",
       " 'dog.9096.jpg': 0.005,\n",
       " 'dog.9150.jpg': 0.005,\n",
       " 'dog.9192.jpg': 0.005,\n",
       " 'dog.9377.jpg': 0.005,\n",
       " 'dog.9416.jpg': 0.009181072,\n",
       " 'dog.9418.jpg': 0.005,\n",
       " 'dog.9440.jpg': 0.005,\n",
       " 'dog.9605.jpg': 0.1378277,\n",
       " 'dog.9833.jpg': 0.005,\n",
       " 'dog.9855.jpg': 0.005,\n",
       " 'dog.9888.jpg': 0.005,\n",
       " 'dog.9889.jpg': 0.005}"
      ]
     },
     "execution_count": 208,
     "metadata": {},
     "output_type": "execute_result"
    }
   ],
   "source": [
    "wrong_cat_dict"
   ]
  },
  {
   "cell_type": "code",
   "execution_count": null,
   "metadata": {
    "collapsed": true
   },
   "outputs": [],
   "source": [
    "col=4\n",
    "fig = plt.figure(1, (40, 100))\n",
    "row = int(len(wrong_cat_list)/col) + 1\n",
    "for k in range(len(wrong_cat_list)-100):\n",
    "    fig.add_subplot(row, col, k+1)\n",
    "    plt.title(wrong_cat_list[k])\n",
    "    img=mpimg.imread('validation/validation/'+wrong_cat_list[k])\n",
    "    plt.imshow(img)\n",
    "    plt.axis('off')\n",
    "plt.show()"
   ]
  },
  {
   "cell_type": "code",
   "execution_count": 209,
   "metadata": {},
   "outputs": [
    {
     "data": {
      "text/plain": [
       "140"
      ]
     },
     "execution_count": 209,
     "metadata": {},
     "output_type": "execute_result"
    }
   ],
   "source": [
    "#总共有140张狗的图片被预测为猫\n",
    "len(wrong_cat_dict)"
   ]
  },
  {
   "cell_type": "code",
   "execution_count": null,
   "metadata": {
    "collapsed": true
   },
   "outputs": [],
   "source": []
  }
 ],
 "metadata": {
  "anaconda-cloud": {},
  "kernelspec": {
   "display_name": "Python 3",
   "language": "python",
   "name": "python3"
  },
  "language_info": {
   "codemirror_mode": {
    "name": "ipython",
    "version": 3
   },
   "file_extension": ".py",
   "mimetype": "text/x-python",
   "name": "python",
   "nbconvert_exporter": "python",
   "pygments_lexer": "ipython3",
   "version": "3.6.3"
  }
 },
 "nbformat": 4,
 "nbformat_minor": 2
}
